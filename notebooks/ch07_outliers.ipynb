{
 "cells": [
  {
   "cell_type": "code",
   "execution_count": 1,
   "metadata": {
    "collapsed": true
   },
   "outputs": [],
   "source": [
    "import numpy as np\n",
    "import pandas as pd"
   ]
  },
  {
   "cell_type": "code",
   "execution_count": 3,
   "outputs": [],
   "source": [
    "data = pd.DataFrame(np.random.randn(1000, 4))"
   ],
   "metadata": {
    "collapsed": false,
    "pycharm": {
     "name": "#%%\n"
    }
   }
  },
  {
   "cell_type": "code",
   "execution_count": 4,
   "outputs": [
    {
     "data": {
      "text/plain": "            0         1         2         3\n0   -0.143968 -0.194572 -0.413364  1.968363\n1   -0.215113  1.098091 -1.987417  0.332025\n2    0.932056  0.170451  1.153590 -2.705740\n3   -0.107250  0.448476 -0.690321 -0.976942\n4    0.104852  0.641525  0.197139 -0.741408\n..        ...       ...       ...       ...\n995  0.289623  0.524054  0.687799 -0.517671\n996  0.315093  0.171164 -0.686105  0.667698\n997 -2.149893  0.802774 -0.740163 -0.601048\n998  1.938580  1.867110  1.470779 -0.838023\n999  1.121873  0.561789 -0.805056 -0.276275\n\n[1000 rows x 4 columns]",
      "text/html": "<div>\n<style scoped>\n    .dataframe tbody tr th:only-of-type {\n        vertical-align: middle;\n    }\n\n    .dataframe tbody tr th {\n        vertical-align: top;\n    }\n\n    .dataframe thead th {\n        text-align: right;\n    }\n</style>\n<table border=\"1\" class=\"dataframe\">\n  <thead>\n    <tr style=\"text-align: right;\">\n      <th></th>\n      <th>0</th>\n      <th>1</th>\n      <th>2</th>\n      <th>3</th>\n    </tr>\n  </thead>\n  <tbody>\n    <tr>\n      <th>0</th>\n      <td>-0.143968</td>\n      <td>-0.194572</td>\n      <td>-0.413364</td>\n      <td>1.968363</td>\n    </tr>\n    <tr>\n      <th>1</th>\n      <td>-0.215113</td>\n      <td>1.098091</td>\n      <td>-1.987417</td>\n      <td>0.332025</td>\n    </tr>\n    <tr>\n      <th>2</th>\n      <td>0.932056</td>\n      <td>0.170451</td>\n      <td>1.153590</td>\n      <td>-2.705740</td>\n    </tr>\n    <tr>\n      <th>3</th>\n      <td>-0.107250</td>\n      <td>0.448476</td>\n      <td>-0.690321</td>\n      <td>-0.976942</td>\n    </tr>\n    <tr>\n      <th>4</th>\n      <td>0.104852</td>\n      <td>0.641525</td>\n      <td>0.197139</td>\n      <td>-0.741408</td>\n    </tr>\n    <tr>\n      <th>...</th>\n      <td>...</td>\n      <td>...</td>\n      <td>...</td>\n      <td>...</td>\n    </tr>\n    <tr>\n      <th>995</th>\n      <td>0.289623</td>\n      <td>0.524054</td>\n      <td>0.687799</td>\n      <td>-0.517671</td>\n    </tr>\n    <tr>\n      <th>996</th>\n      <td>0.315093</td>\n      <td>0.171164</td>\n      <td>-0.686105</td>\n      <td>0.667698</td>\n    </tr>\n    <tr>\n      <th>997</th>\n      <td>-2.149893</td>\n      <td>0.802774</td>\n      <td>-0.740163</td>\n      <td>-0.601048</td>\n    </tr>\n    <tr>\n      <th>998</th>\n      <td>1.938580</td>\n      <td>1.867110</td>\n      <td>1.470779</td>\n      <td>-0.838023</td>\n    </tr>\n    <tr>\n      <th>999</th>\n      <td>1.121873</td>\n      <td>0.561789</td>\n      <td>-0.805056</td>\n      <td>-0.276275</td>\n    </tr>\n  </tbody>\n</table>\n<p>1000 rows × 4 columns</p>\n</div>"
     },
     "execution_count": 4,
     "metadata": {},
     "output_type": "execute_result"
    }
   ],
   "source": [
    "data"
   ],
   "metadata": {
    "collapsed": false,
    "pycharm": {
     "name": "#%%\n"
    }
   }
  },
  {
   "cell_type": "code",
   "execution_count": 6,
   "outputs": [
    {
     "data": {
      "text/plain": "            0         1         2         3\n199 -0.685217 -0.181065  3.156212 -0.018947\n203  0.615729  0.791300 -3.008556 -1.093313\n261 -0.741750  0.955816 -3.249987 -0.107568\n325  0.116543  0.011919  0.660396 -3.586239\n490 -1.208739  0.218290 -3.275176  1.187109\n596  0.073143 -0.968585 -3.088650 -0.621848\n809 -2.295237  0.700799  0.104558  3.585665\n858  0.392488 -3.081577  0.495581  1.954118\n977 -0.213810  3.948961  0.200690  0.607963\n983  0.616561  1.524833 -3.065854  1.366210",
      "text/html": "<div>\n<style scoped>\n    .dataframe tbody tr th:only-of-type {\n        vertical-align: middle;\n    }\n\n    .dataframe tbody tr th {\n        vertical-align: top;\n    }\n\n    .dataframe thead th {\n        text-align: right;\n    }\n</style>\n<table border=\"1\" class=\"dataframe\">\n  <thead>\n    <tr style=\"text-align: right;\">\n      <th></th>\n      <th>0</th>\n      <th>1</th>\n      <th>2</th>\n      <th>3</th>\n    </tr>\n  </thead>\n  <tbody>\n    <tr>\n      <th>199</th>\n      <td>-0.685217</td>\n      <td>-0.181065</td>\n      <td>3.156212</td>\n      <td>-0.018947</td>\n    </tr>\n    <tr>\n      <th>203</th>\n      <td>0.615729</td>\n      <td>0.791300</td>\n      <td>-3.008556</td>\n      <td>-1.093313</td>\n    </tr>\n    <tr>\n      <th>261</th>\n      <td>-0.741750</td>\n      <td>0.955816</td>\n      <td>-3.249987</td>\n      <td>-0.107568</td>\n    </tr>\n    <tr>\n      <th>325</th>\n      <td>0.116543</td>\n      <td>0.011919</td>\n      <td>0.660396</td>\n      <td>-3.586239</td>\n    </tr>\n    <tr>\n      <th>490</th>\n      <td>-1.208739</td>\n      <td>0.218290</td>\n      <td>-3.275176</td>\n      <td>1.187109</td>\n    </tr>\n    <tr>\n      <th>596</th>\n      <td>0.073143</td>\n      <td>-0.968585</td>\n      <td>-3.088650</td>\n      <td>-0.621848</td>\n    </tr>\n    <tr>\n      <th>809</th>\n      <td>-2.295237</td>\n      <td>0.700799</td>\n      <td>0.104558</td>\n      <td>3.585665</td>\n    </tr>\n    <tr>\n      <th>858</th>\n      <td>0.392488</td>\n      <td>-3.081577</td>\n      <td>0.495581</td>\n      <td>1.954118</td>\n    </tr>\n    <tr>\n      <th>977</th>\n      <td>-0.213810</td>\n      <td>3.948961</td>\n      <td>0.200690</td>\n      <td>0.607963</td>\n    </tr>\n    <tr>\n      <th>983</th>\n      <td>0.616561</td>\n      <td>1.524833</td>\n      <td>-3.065854</td>\n      <td>1.366210</td>\n    </tr>\n  </tbody>\n</table>\n</div>"
     },
     "execution_count": 6,
     "metadata": {},
     "output_type": "execute_result"
    }
   ],
   "source": [
    "data[(np.abs(data) > 3).any(1)]"
   ],
   "metadata": {
    "collapsed": false,
    "pycharm": {
     "name": "#%%\n"
    }
   }
  },
  {
   "cell_type": "code",
   "execution_count": 8,
   "outputs": [
    {
     "data": {
      "text/plain": "         0      1      2      3\n0    False  False  False  False\n1    False  False  False  False\n2    False  False  False  False\n3    False  False  False  False\n4    False  False  False  False\n..     ...    ...    ...    ...\n995  False  False  False  False\n996  False  False  False  False\n997  False  False  False  False\n998  False  False  False  False\n999  False  False  False  False\n\n[1000 rows x 4 columns]",
      "text/html": "<div>\n<style scoped>\n    .dataframe tbody tr th:only-of-type {\n        vertical-align: middle;\n    }\n\n    .dataframe tbody tr th {\n        vertical-align: top;\n    }\n\n    .dataframe thead th {\n        text-align: right;\n    }\n</style>\n<table border=\"1\" class=\"dataframe\">\n  <thead>\n    <tr style=\"text-align: right;\">\n      <th></th>\n      <th>0</th>\n      <th>1</th>\n      <th>2</th>\n      <th>3</th>\n    </tr>\n  </thead>\n  <tbody>\n    <tr>\n      <th>0</th>\n      <td>False</td>\n      <td>False</td>\n      <td>False</td>\n      <td>False</td>\n    </tr>\n    <tr>\n      <th>1</th>\n      <td>False</td>\n      <td>False</td>\n      <td>False</td>\n      <td>False</td>\n    </tr>\n    <tr>\n      <th>2</th>\n      <td>False</td>\n      <td>False</td>\n      <td>False</td>\n      <td>False</td>\n    </tr>\n    <tr>\n      <th>3</th>\n      <td>False</td>\n      <td>False</td>\n      <td>False</td>\n      <td>False</td>\n    </tr>\n    <tr>\n      <th>4</th>\n      <td>False</td>\n      <td>False</td>\n      <td>False</td>\n      <td>False</td>\n    </tr>\n    <tr>\n      <th>...</th>\n      <td>...</td>\n      <td>...</td>\n      <td>...</td>\n      <td>...</td>\n    </tr>\n    <tr>\n      <th>995</th>\n      <td>False</td>\n      <td>False</td>\n      <td>False</td>\n      <td>False</td>\n    </tr>\n    <tr>\n      <th>996</th>\n      <td>False</td>\n      <td>False</td>\n      <td>False</td>\n      <td>False</td>\n    </tr>\n    <tr>\n      <th>997</th>\n      <td>False</td>\n      <td>False</td>\n      <td>False</td>\n      <td>False</td>\n    </tr>\n    <tr>\n      <th>998</th>\n      <td>False</td>\n      <td>False</td>\n      <td>False</td>\n      <td>False</td>\n    </tr>\n    <tr>\n      <th>999</th>\n      <td>False</td>\n      <td>False</td>\n      <td>False</td>\n      <td>False</td>\n    </tr>\n  </tbody>\n</table>\n<p>1000 rows × 4 columns</p>\n</div>"
     },
     "execution_count": 8,
     "metadata": {},
     "output_type": "execute_result"
    }
   ],
   "source": [
    "np.abs(data) > 3"
   ],
   "metadata": {
    "collapsed": false,
    "pycharm": {
     "name": "#%%\n"
    }
   }
  },
  {
   "cell_type": "code",
   "execution_count": 9,
   "outputs": [],
   "source": [
    "data[np.abs(data) > 3] = np.sign(data) * 3"
   ],
   "metadata": {
    "collapsed": false,
    "pycharm": {
     "name": "#%%\n"
    }
   }
  },
  {
   "cell_type": "code",
   "execution_count": 10,
   "outputs": [
    {
     "data": {
      "text/plain": "Empty DataFrame\nColumns: [0, 1, 2, 3]\nIndex: []",
      "text/html": "<div>\n<style scoped>\n    .dataframe tbody tr th:only-of-type {\n        vertical-align: middle;\n    }\n\n    .dataframe tbody tr th {\n        vertical-align: top;\n    }\n\n    .dataframe thead th {\n        text-align: right;\n    }\n</style>\n<table border=\"1\" class=\"dataframe\">\n  <thead>\n    <tr style=\"text-align: right;\">\n      <th></th>\n      <th>0</th>\n      <th>1</th>\n      <th>2</th>\n      <th>3</th>\n    </tr>\n  </thead>\n  <tbody>\n  </tbody>\n</table>\n</div>"
     },
     "execution_count": 10,
     "metadata": {},
     "output_type": "execute_result"
    }
   ],
   "source": [
    "data[(np.abs(data) > 3).any(1)]"
   ],
   "metadata": {
    "collapsed": false,
    "pycharm": {
     "name": "#%%\n"
    }
   }
  },
  {
   "cell_type": "code",
   "execution_count": null,
   "outputs": [],
   "source": [],
   "metadata": {
    "collapsed": false,
    "pycharm": {
     "name": "#%%\n"
    }
   }
  }
 ],
 "metadata": {
  "kernelspec": {
   "display_name": "Python 3",
   "language": "python",
   "name": "python3"
  },
  "language_info": {
   "codemirror_mode": {
    "name": "ipython",
    "version": 2
   },
   "file_extension": ".py",
   "mimetype": "text/x-python",
   "name": "python",
   "nbconvert_exporter": "python",
   "pygments_lexer": "ipython2",
   "version": "2.7.6"
  }
 },
 "nbformat": 4,
 "nbformat_minor": 0
}